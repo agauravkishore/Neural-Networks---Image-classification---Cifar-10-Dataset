{
  "nbformat": 4,
  "nbformat_minor": 0,
  "metadata": {
    "colab": {
      "name": "Neural Networks - Image classification - Cifar 10 Dataset",
      "provenance": [],
      "collapsed_sections": [],
      "include_colab_link": true
    },
    "kernelspec": {
      "name": "python3",
      "display_name": "Python 3"
    },
    "accelerator": "GPU"
  },
  "cells": [
    {
      "cell_type": "markdown",
      "metadata": {
        "id": "view-in-github",
        "colab_type": "text"
      },
      "source": [
        "<a href=\"https://colab.research.google.com/github/agauravkishore/Neural-Networks---Image-classification---Cifar-10-Dataset/blob/master/Neural_Networks_Image_classification_Cifar_10_Dataset.ipynb\" target=\"_parent\"><img src=\"https://colab.research.google.com/assets/colab-badge.svg\" alt=\"Open In Colab\"/></a>"
      ]
    },
    {
      "cell_type": "code",
      "metadata": {
        "id": "cRESAr-CRhUD",
        "colab_type": "code",
        "colab": {}
      },
      "source": [
        "#importing hte required libraries\n",
        "from keras import backend as K\n",
        "K.tensorflow_backend._get_available_gpus()\n",
        "from sklearn.model_selection import train_test_split\n",
        "import numpy as np\n",
        "\n",
        "\n",
        "from keras import layers\n",
        "from keras import models \n",
        "from keras import optimizers\n",
        "from keras.layers import Dropout, Conv2D, Flatten, Dense\n",
        "    \n",
        "from keras.models import Sequential\n",
        "from keras.optimizers import Adam\n",
        "from keras import callbacks\n",
        "K.tensorflow_backend.set_image_dim_ordering('tf')\n",
        "\n",
        "\n",
        "from keras.utils import np_utils"
      ],
      "execution_count": 0,
      "outputs": []
    },
    {
      "cell_type": "code",
      "metadata": {
        "id": "32KRe-nPbvy3",
        "colab_type": "code",
        "colab": {}
      },
      "source": [
        "import matplotlib.pyplot as plt"
      ],
      "execution_count": 0,
      "outputs": []
    },
    {
      "cell_type": "code",
      "metadata": {
        "id": "oRhOajfISadS",
        "colab_type": "code",
        "colab": {}
      },
      "source": [
        "#importing the cifar10 dataset\n",
        "from keras.datasets import cifar10"
      ],
      "execution_count": 0,
      "outputs": []
    },
    {
      "cell_type": "code",
      "metadata": {
        "id": "4buiEuv-iCQz",
        "colab_type": "code",
        "colab": {}
      },
      "source": [
        "#Spliting into train_outer data and test data\n",
        "(x_train_outer, y_train_outer), (x_test, y_test) = cifar10.load_data()"
      ],
      "execution_count": 0,
      "outputs": []
    },
    {
      "cell_type": "code",
      "metadata": {
        "id": "fx03mt31id8O",
        "colab_type": "code",
        "colab": {}
      },
      "source": [
        "#Splitting train_outer into training data and validation data\n",
        "x_train, x_val, y_train, y_val = train_test_split(x_train_outer, y_train_outer, test_size=0.2)\n"
      ],
      "execution_count": 0,
      "outputs": []
    },
    {
      "cell_type": "code",
      "metadata": {
        "id": "AUIHU5ZFa6pc",
        "colab_type": "code",
        "outputId": "a4b01625-eb20-4143-81e1-e79fc5ec9b15",
        "colab": {
          "base_uri": "https://localhost:8080/",
          "height": 85
        }
      },
      "source": [
        "print(x_train.shape)\n",
        "print(y_train_outer.shape)\n",
        "\n",
        "print(x_test.shape)\n",
        "\n",
        "print(y_test.shape)\n"
      ],
      "execution_count": 0,
      "outputs": [
        {
          "output_type": "stream",
          "text": [
            "(40000, 32, 32, 3)\n",
            "(50000, 1)\n",
            "(10000, 32, 32, 3)\n",
            "(10000, 1)\n"
          ],
          "name": "stdout"
        }
      ]
    },
    {
      "cell_type": "code",
      "metadata": {
        "id": "XvXcptIjbuCH",
        "colab_type": "code",
        "outputId": "02a478d5-6e49-44fc-f02c-fe74dab2cf71",
        "colab": {
          "base_uri": "https://localhost:8080/",
          "height": 286
        }
      },
      "source": [
        "plt.imshow(x_test[1])"
      ],
      "execution_count": 0,
      "outputs": [
        {
          "output_type": "execute_result",
          "data": {
            "text/plain": [
              "<matplotlib.image.AxesImage at 0x7f2a7efcc4a8>"
            ]
          },
          "metadata": {
            "tags": []
          },
          "execution_count": 68
        },
        {
          "output_type": "display_data",
          "data": {
            "image/png": "[encoded data removed]",
            "text/plain": [
              "<Figure size 432x288 with 1 Axes>"
            ]
          },
          "metadata": {
            "tags": []
          }
        }
      ]
    },
    {
      "cell_type": "code",
      "metadata": {
        "id": "AZ1qa7-ab7Ec",
        "colab_type": "code",
        "colab": {}
      },
      "source": [
        "#normalizing data since the pixel values go from 0 to 256, we want value to be as small as possible\n",
        "\n",
        "x_train = x_train.astype('float32')\n",
        "x_test = x_test.astype('float32')\n",
        "x_val = x_val.astype('float32')\n",
        " \n",
        "# mean-std normalization\n",
        "mean = np.mean(x_train,axis=(0,1,2,3))\n",
        "std = np.std(x_train,axis=(0,1,2,3))\n",
        "\n",
        "mean_val = np.mean(x_val,axis=(0,1,2,3))\n",
        "std_val = np.std(x_val,axis=(0,1,2,3))\n",
        "\n",
        "mean_test = np.mean(x_test,axis=(0,1,2,3))\n",
        "std_test = np.std(x_test,axis=(0,1,2,3))\n",
        "\n",
        "\n",
        "x_train = (x_train-mean)/(std+1e-7)\n",
        "x_test = (x_test-mean_test)/(std_test+1e-7)\n",
        "x_val = (x_val-mean_val)/(std_val+1e-7)\n",
        "\n"
      ],
      "execution_count": 0,
      "outputs": []
    },
    {
      "cell_type": "code",
      "metadata": {
        "id": "QdCJyG8cwLFn",
        "colab_type": "code",
        "colab": {}
      },
      "source": [
        "#defining the classes for the outputs\n",
        "\n",
        "n_classes = 10\n",
        "y_train = np_utils.to_categorical(y_train,n_classes)\n",
        "y_val = np_utils.to_categorical(y_val,n_classes)\n",
        "y_test = np_utils.to_categorical(y_test,n_classes)\n"
      ],
      "execution_count": 0,
      "outputs": []
    },
    {
      "cell_type": "code",
      "metadata": {
        "id": "yIvoi-iO4kW2",
        "colab_type": "code",
        "outputId": "3570210c-2361-4ac6-9b9e-204491bb241e",
        "colab": {
          "base_uri": "https://localhost:8080/",
          "height": 119
        }
      },
      "source": [
        "print(y_test.shape)\n",
        "print(x_test.shape)\n",
        "print(x_train.shape)\n",
        "print(y_train.shape)\n",
        "\n",
        "print(x_val.shape)\n",
        "print(y_val.shape)\n"
      ],
      "execution_count": 0,
      "outputs": [
        {
          "output_type": "stream",
          "text": [
            "(10000, 10)\n",
            "(10000, 32, 32, 3)\n",
            "(40000, 32, 32, 3)\n",
            "(40000, 10)\n",
            "(10000, 32, 32, 3)\n",
            "(10000, 10)\n"
          ],
          "name": "stdout"
        }
      ]
    },
    {
      "cell_type": "code",
      "metadata": {
        "id": "0Cf1ZUdfdTll",
        "colab_type": "code",
        "colab": {}
      },
      "source": [
        "input_shape=(32, 32, 3)"
      ],
      "execution_count": 0,
      "outputs": []
    },
    {
      "cell_type": "code",
      "metadata": {
        "id": "5Y9_lJN4dTxM",
        "colab_type": "code",
        "colab": {}
      },
      "source": [
        "#BASIC Model\n",
        "\n",
        "model_b = models.Sequential()\n",
        "model_b.add(layers.Conv2D(32, (3, 3), activation='relu', padding = 'same',\n",
        "                        input_shape=input_shape))\n",
        "\n",
        "model_b.add(layers.Conv2D(128, (3, 3), activation='relu', padding = 'same'))\n",
        "\n",
        "model_b.add(layers.Flatten())\n",
        "model_b.add(Dense(512, activation='relu'))\n",
        "model_b.add(layers.Dense(n_classes, activation='softmax'))"
      ],
      "execution_count": 0,
      "outputs": []
    },
    {
      "cell_type": "code",
      "metadata": {
        "id": "iIzRGxY0dT8O",
        "colab_type": "code",
        "colab": {}
      },
      "source": [
        "#Applying an optimizer and compiling the model\n",
        "AdamOpt = Adam(lr=0.001)\n",
        "model_b.compile(optimizer=AdamOpt, loss='categorical_crossentropy', \n",
        "             metrics=['accuracy'])"
      ],
      "execution_count": 0,
      "outputs": []
    },
    {
      "cell_type": "code",
      "metadata": {
        "id": "A_dY7jGOdqJc",
        "colab_type": "code",
        "outputId": "9fe8acb5-5bdd-455b-a82d-51fd93f3812f",
        "colab": {
          "base_uri": "https://localhost:8080/",
          "height": 374
        }
      },
      "source": [
        "#Fitting the model onto the dataset \n",
        "history = model_b.fit(x_train, y_train, epochs = 10, batch_size = 150, \n",
        "                    validation_data = (x_val, y_val))"
      ],
      "execution_count": 0,
      "outputs": [
        {
          "output_type": "stream",
          "text": [
            "Train on 40000 samples, validate on 10000 samples\n",
            "Epoch 1/10\n",
            "40000/40000 [==============================] - 46s 1ms/step - loss: 1.7754 - acc: 0.4330 - val_loss: 1.2832 - val_acc: 0.5340\n",
            "Epoch 2/10\n",
            "40000/40000 [==============================] - 44s 1ms/step - loss: 1.0434 - acc: 0.6320 - val_loss: 1.0982 - val_acc: 0.6124\n",
            "Epoch 3/10\n",
            "40000/40000 [==============================] - 44s 1ms/step - loss: 0.7116 - acc: 0.7527 - val_loss: 1.0235 - val_acc: 0.6502\n",
            "Epoch 4/10\n",
            "40000/40000 [==============================] - 44s 1ms/step - loss: 0.3869 - acc: 0.8725 - val_loss: 1.1911 - val_acc: 0.6425\n",
            "Epoch 5/10\n",
            "40000/40000 [==============================] - 44s 1ms/step - loss: 0.1299 - acc: 0.9623 - val_loss: 1.5606 - val_acc: 0.6400\n",
            "Epoch 6/10\n",
            "40000/40000 [==============================] - 44s 1ms/step - loss: 0.0365 - acc: 0.9919 - val_loss: 1.7633 - val_acc: 0.6421\n",
            "Epoch 7/10\n",
            "40000/40000 [==============================] - 44s 1ms/step - loss: 0.0142 - acc: 0.9974 - val_loss: 1.9511 - val_acc: 0.6457\n",
            "Epoch 8/10\n",
            "40000/40000 [==============================] - 44s 1ms/step - loss: 0.0114 - acc: 0.9974 - val_loss: 2.0650 - val_acc: 0.6386\n",
            "Epoch 9/10\n",
            "40000/40000 [==============================] - 44s 1ms/step - loss: 0.0064 - acc: 0.9988 - val_loss: 2.1444 - val_acc: 0.6402\n",
            "Epoch 10/10\n",
            "40000/40000 [==============================] - 44s 1ms/step - loss: 0.0260 - acc: 0.9920 - val_loss: 2.1181 - val_acc: 0.6247\n"
          ],
          "name": "stdout"
        }
      ]
    },
    {
      "cell_type": "code",
      "metadata": {
        "id": "PkC6eiUxdqL0",
        "colab_type": "code",
        "outputId": "40294993-e573-434e-b4f3-0aeac0dbf21d",
        "colab": {
          "base_uri": "https://localhost:8080/",
          "height": 545
        }
      },
      "source": [
        "#Plotting the Accuracies\n",
        "import matplotlib.pyplot as plt\n",
        "acc = history.history['acc']\n",
        "val_acc = history.history['val_acc']\n",
        "loss = history.history['loss']\n",
        "val_loss = history.history['val_loss']\n",
        "epochs = range(1, len(acc) + 1)\n",
        "plt.plot(epochs, acc, 'bo', label='Training acc')\n",
        "plt.plot(epochs, val_acc, 'b', label='Validation acc')\n",
        "plt.title('Training and validation accuracy')\n",
        "plt.legend()\n",
        "plt.figure()\n",
        "plt.plot(epochs, loss, 'bo', label='Training loss')\n",
        "plt.plot(epochs, val_loss, 'b', label='Validation loss')\n",
        "plt.title('Training and validation loss')\n",
        "plt.legend()\n",
        "plt.show()"
      ],
      "execution_count": 0,
      "outputs": [
        {
          "output_type": "display_data",
          "data": {
            "image/png": "[encoded data removed]",
            "text/plain": [
              "<Figure size 432x288 with 1 Axes>"
            ]
          },
          "metadata": {
            "tags": []
          }
        },
        {
          "output_type": "display_data",
          "data": {
            "image/png": "[encoded data removed]",
            "text/plain": [
              "<Figure size 432x288 with 1 Axes>"
            ]
          },
          "metadata": {
            "tags": []
          }
        }
      ]
    },
    {
      "cell_type": "code",
      "metadata": {
        "id": "znufKqEpdqPy",
        "colab_type": "code",
        "outputId": "fa3cdf3c-6918-44f7-ffec-d0946ae77f19",
        "colab": {
          "base_uri": "https://localhost:8080/",
          "height": 68
        }
      },
      "source": [
        "# Evaluating the model on the test dataset\n",
        "classes = model_b.evaluate(x_test, y_test, verbose=1)\n",
        "\n",
        "print('Test accuracy:', classes[1])\n",
        "print('Test loss:', classes[0])"
      ],
      "execution_count": 0,
      "outputs": [
        {
          "output_type": "stream",
          "text": [
            "10000/10000 [==============================] - 3s 327us/step\n",
            "Test accuracy: 0.6224\n",
            "Test loss: 2.1438206899642944\n"
          ],
          "name": "stdout"
        }
      ]
    },
    {
      "cell_type": "code",
      "metadata": {
        "id": "1LTR9cRjwBMK",
        "colab_type": "code",
        "colab": {}
      },
      "source": [
        "#Building on the basic model to build a convolutional neural network with several convolution, pooling, and batch\n",
        "#normalization layers. Then, flattening the output of the convolution layers and passing it to a single\n",
        "#dense layer that will produce the output using softmax activation. Using\n",
        "#categorical_crossentropy loss.\n"
      ],
      "execution_count": 0,
      "outputs": []
    },
    {
      "cell_type": "markdown",
      "metadata": {
        "id": "mvj2Xz2I4SQ9",
        "colab_type": "text"
      },
      "source": [
        "Build a basic convolutional neural network with several convolution, pooling, and batch\n",
        "normalization layers. Flatten the output of the convolution layers and pass it to a single\n",
        "dense layer that will produce the output using softmax activation. Use\n",
        "categorical_crossentropy loss.\n"
      ]
    },
    {
      "cell_type": "code",
      "metadata": {
        "id": "z3BB_rYt6JtA",
        "colab_type": "code",
        "colab": {}
      },
      "source": [
        "input_shape=(32, 32, 3)"
      ],
      "execution_count": 0,
      "outputs": []
    },
    {
      "cell_type": "code",
      "metadata": {
        "id": "5iZT6U1c4NzX",
        "colab_type": "code",
        "colab": {}
      },
      "source": [
        "#THE Final Model\n",
        "\n",
        "model = models.Sequential()\n",
        "model.add(layers.Conv2D(32, (3, 3), activation='relu', padding = 'same',\n",
        "                        input_shape=input_shape))\n",
        "model.add(layers.MaxPooling2D((2, 2)))\n",
        "model.add(Dropout(0.4))\n",
        "\n",
        "\n",
        "model.add(layers.Conv2D(128, (3, 3), activation='relu', padding = 'same'))\n",
        "model.add(layers.MaxPooling2D((2, 2)))\n",
        "model.add(Dropout(0.4))\n",
        "\n",
        "model.add(layers.Conv2D(128, (3, 3), activation='relu', padding = 'same'))\n",
        "model.add(layers.MaxPooling2D((2, 2)))\n",
        "model.add(Dropout(0.4))\n",
        "\n",
        "model.add(layers.Flatten())\n",
        "model.add(Dense(512, activation='relu'))\n",
        "model.add(Dropout(0.5))\n",
        "model.add(layers.Dense(n_classes, activation='softmax'))\n",
        "\n",
        "# We add n_classes because we want the probability of each image belonging to a specific class\n",
        "\n"
      ],
      "execution_count": 0,
      "outputs": []
    },
    {
      "cell_type": "code",
      "metadata": {
        "id": "4sZYoEABDyiA",
        "colab_type": "code",
        "colab": {}
      },
      "source": [
        "AdamOpt = Adam(lr=0.001)\n",
        "model.compile(optimizer=AdamOpt, loss='categorical_crossentropy', \n",
        "             metrics=['accuracy'])"
      ],
      "execution_count": 0,
      "outputs": []
    },
    {
      "cell_type": "code",
      "metadata": {
        "id": "URXh_Og07GF8",
        "colab_type": "code",
        "outputId": "1f65ff19-1efc-4efe-c204-d2cd7c3d32f8",
        "colab": {
          "base_uri": "https://localhost:8080/",
          "height": 105
        }
      },
      "source": [
        "\"\"\"\n",
        "model.compile(loss = 'categorical_crossentropy', optimizer=optimizers.RMSprop(lr=1e-4),\n",
        "              metrics=['acc'] )\n",
        "              \n",
        "optimizer above works better\n",
        "\n",
        "\"\"\""
      ],
      "execution_count": 0,
      "outputs": [
        {
          "output_type": "stream",
          "text": [
            "WARNING:tensorflow:From /usr/local/lib/python3.6/dist-packages/keras/optimizers.py:793: The name tf.train.Optimizer is deprecated. Please use tf.compat.v1.train.Optimizer instead.\n",
            "\n",
            "WARNING:tensorflow:From /usr/local/lib/python3.6/dist-packages/keras/backend/tensorflow_backend.py:3576: The name tf.log is deprecated. Please use tf.math.log instead.\n",
            "\n"
          ],
          "name": "stdout"
        }
      ]
    },
    {
      "cell_type": "code",
      "metadata": {
        "id": "9Qx7C-FB8Tyn",
        "colab_type": "code",
        "outputId": "c8f8d569-b58f-404d-ccff-31dced1c41b9",
        "colab": {
          "base_uri": "https://localhost:8080/",
          "height": 1000
        }
      },
      "source": [
        "#for original\n",
        "history = model.fit(x_train, y_train, epochs = 30, batch_size = 150, \n",
        "                    validation_data = (x_val, y_val))\n",
        "\n"
      ],
      "execution_count": 0,
      "outputs": [
        {
          "output_type": "stream",
          "text": [
            "Train on 40000 samples, validate on 10000 samples\n",
            "Epoch 1/30\n",
            "40000/40000 [==============================] - 9s 222us/step - loss: 1.7506 - acc: 0.3582 - val_loss: 1.3736 - val_acc: 0.5174\n",
            "Epoch 2/30\n",
            "40000/40000 [==============================] - 8s 191us/step - loss: 1.3572 - acc: 0.5075 - val_loss: 1.1699 - val_acc: 0.5923\n",
            "Epoch 3/30\n",
            "40000/40000 [==============================] - 8s 192us/step - loss: 1.2032 - acc: 0.5676 - val_loss: 1.0881 - val_acc: 0.6178\n",
            "Epoch 4/30\n",
            "40000/40000 [==============================] - 8s 193us/step - loss: 1.1033 - acc: 0.6062 - val_loss: 0.9680 - val_acc: 0.6715\n",
            "Epoch 5/30\n",
            "40000/40000 [==============================] - 8s 192us/step - loss: 1.0282 - acc: 0.6350 - val_loss: 0.8883 - val_acc: 0.6940\n",
            "Epoch 6/30\n",
            "40000/40000 [==============================] - 8s 192us/step - loss: 0.9653 - acc: 0.6583 - val_loss: 0.8306 - val_acc: 0.7126\n",
            "Epoch 7/30\n",
            "40000/40000 [==============================] - 8s 191us/step - loss: 0.9253 - acc: 0.6707 - val_loss: 0.7938 - val_acc: 0.7252\n",
            "Epoch 8/30\n",
            "40000/40000 [==============================] - 8s 192us/step - loss: 0.8845 - acc: 0.6866 - val_loss: 0.7945 - val_acc: 0.7275\n",
            "Epoch 9/30\n",
            "40000/40000 [==============================] - 8s 191us/step - loss: 0.8600 - acc: 0.6963 - val_loss: 0.7538 - val_acc: 0.7365\n",
            "Epoch 10/30\n",
            "40000/40000 [==============================] - 8s 192us/step - loss: 0.8375 - acc: 0.7053 - val_loss: 0.7402 - val_acc: 0.7461\n",
            "Epoch 11/30\n",
            "40000/40000 [==============================] - 8s 192us/step - loss: 0.8216 - acc: 0.7086 - val_loss: 0.7090 - val_acc: 0.7554\n",
            "Epoch 12/30\n",
            "40000/40000 [==============================] - 8s 192us/step - loss: 0.7952 - acc: 0.7192 - val_loss: 0.7126 - val_acc: 0.7482\n",
            "Epoch 13/30\n",
            "40000/40000 [==============================] - 8s 192us/step - loss: 0.7815 - acc: 0.7236 - val_loss: 0.6795 - val_acc: 0.7655\n",
            "Epoch 14/30\n",
            "40000/40000 [==============================] - 8s 193us/step - loss: 0.7614 - acc: 0.7315 - val_loss: 0.6851 - val_acc: 0.7597\n",
            "Epoch 15/30\n",
            "40000/40000 [==============================] - 8s 194us/step - loss: 0.7438 - acc: 0.7384 - val_loss: 0.6867 - val_acc: 0.7596\n",
            "Epoch 16/30\n",
            "40000/40000 [==============================] - 8s 190us/step - loss: 0.7327 - acc: 0.7410 - val_loss: 0.6593 - val_acc: 0.7735\n",
            "Epoch 17/30\n",
            "40000/40000 [==============================] - 8s 191us/step - loss: 0.7246 - acc: 0.7432 - val_loss: 0.6608 - val_acc: 0.7748\n",
            "Epoch 18/30\n",
            "40000/40000 [==============================] - 8s 191us/step - loss: 0.7082 - acc: 0.7488 - val_loss: 0.6472 - val_acc: 0.7760\n",
            "Epoch 19/30\n",
            "40000/40000 [==============================] - 8s 192us/step - loss: 0.6979 - acc: 0.7537 - val_loss: 0.6500 - val_acc: 0.7773\n",
            "Epoch 20/30\n",
            "40000/40000 [==============================] - 8s 194us/step - loss: 0.6908 - acc: 0.7540 - val_loss: 0.6345 - val_acc: 0.7805\n",
            "Epoch 21/30\n",
            "40000/40000 [==============================] - 8s 194us/step - loss: 0.6729 - acc: 0.7597 - val_loss: 0.6427 - val_acc: 0.7764\n",
            "Epoch 22/30\n",
            "40000/40000 [==============================] - 8s 195us/step - loss: 0.6724 - acc: 0.7631 - val_loss: 0.6196 - val_acc: 0.7838\n",
            "Epoch 23/30\n",
            "40000/40000 [==============================] - 8s 195us/step - loss: 0.6644 - acc: 0.7642 - val_loss: 0.6161 - val_acc: 0.7902\n",
            "Epoch 24/30\n",
            "40000/40000 [==============================] - 8s 194us/step - loss: 0.6578 - acc: 0.7667 - val_loss: 0.6187 - val_acc: 0.7865\n",
            "Epoch 25/30\n",
            "40000/40000 [==============================] - 8s 193us/step - loss: 0.6499 - acc: 0.7722 - val_loss: 0.6202 - val_acc: 0.7883\n",
            "Epoch 26/30\n",
            "40000/40000 [==============================] - 8s 191us/step - loss: 0.6407 - acc: 0.7711 - val_loss: 0.6130 - val_acc: 0.7907\n",
            "Epoch 27/30\n",
            "40000/40000 [==============================] - 8s 191us/step - loss: 0.6364 - acc: 0.7761 - val_loss: 0.6049 - val_acc: 0.7946\n",
            "Epoch 28/30\n",
            "40000/40000 [==============================] - 8s 193us/step - loss: 0.6261 - acc: 0.7782 - val_loss: 0.5937 - val_acc: 0.8006\n",
            "Epoch 29/30\n",
            "40000/40000 [==============================] - 8s 193us/step - loss: 0.6256 - acc: 0.7778 - val_loss: 0.6055 - val_acc: 0.7860\n",
            "Epoch 30/30\n",
            "40000/40000 [==============================] - 8s 193us/step - loss: 0.6181 - acc: 0.7822 - val_loss: 0.6025 - val_acc: 0.7923\n"
          ],
          "name": "stdout"
        }
      ]
    },
    {
      "cell_type": "code",
      "metadata": {
        "id": "E_E4umpPO39l",
        "colab_type": "code",
        "outputId": "ce5a533c-99a4-4371-b77a-0e29277df313",
        "colab": {
          "base_uri": "https://localhost:8080/",
          "height": 545
        }
      },
      "source": [
        "import matplotlib.pyplot as plt\n",
        "acc = history.history['acc']\n",
        "val_acc = history.history['val_acc']\n",
        "loss = history.history['loss']\n",
        "val_loss = history.history['val_loss']\n",
        "epochs = range(1, len(acc) + 1)\n",
        "plt.plot(epochs, acc, 'bo', label='Training acc')\n",
        "plt.plot(epochs, val_acc, 'b', label='Validation acc')\n",
        "plt.title('Training and validation accuracy')\n",
        "plt.legend()\n",
        "plt.figure()\n",
        "plt.plot(epochs, loss, 'bo', label='Training loss')\n",
        "plt.plot(epochs, val_loss, 'b', label='Validation loss')\n",
        "plt.title('Training and validation loss')\n",
        "plt.legend()\n",
        "plt.show()"
      ],
      "execution_count": 0,
      "outputs": [
        {
          "output_type": "display_data",
          "data": {
            "image/png": "[encoded data removed]",
            "text/plain": [
              "<Figure size 432x288 with 1 Axes>"
            ]
          },
          "metadata": {
            "tags": []
          }
        },
        {
          "output_type": "display_data",
          "data": {
            "image/png": "[encoded data removed]",
            "text/plain": [
              "<Figure size 432x288 with 1 Axes>"
            ]
          },
          "metadata": {
            "tags": []
          }
        }
      ]
    },
    {
      "cell_type": "code",
      "metadata": {
        "id": "hkb1LfdjJbyD",
        "colab_type": "code",
        "outputId": "a2247f55-f2e9-49c4-c7e2-755ae658c908",
        "colab": {
          "base_uri": "https://localhost:8080/",
          "height": 68
        }
      },
      "source": [
        "# Evaluating the model on the test dataset\n",
        "classes = model.evaluate(x_test, y_test, verbose=1)\n",
        "\n",
        "print('Test accuracy:', classes[1])\n",
        "print('Test loss:', classes[0])"
      ],
      "execution_count": 0,
      "outputs": [
        {
          "output_type": "stream",
          "text": [
            "10000/10000 [==============================] - 1s 131us/step\n",
            "Test accuracy: 0.7868\n",
            "Test loss: 0.6227487847328186\n"
          ],
          "name": "stdout"
        }
      ]
    },
    {
      "cell_type": "code",
      "metadata": {
        "id": "gHocdQmbLcyo",
        "colab_type": "code",
        "outputId": "a14f80d1-17db-4555-e298-95821396acf0",
        "colab": {
          "base_uri": "https://localhost:8080/",
          "height": 1000
        }
      },
      "source": [
        ""
      ],
      "execution_count": 0,
      "outputs": [
        {
          "output_type": "stream",
          "text": [
            "Epoch 1/30\n",
            "10000/10000 [==============================] - 2s 196us/step - loss: 0.9103 - acc: 0.6812\n",
            "Epoch 2/30\n",
            "10000/10000 [==============================] - 2s 181us/step - loss: 0.8881 - acc: 0.6909\n",
            "Epoch 3/30\n",
            "10000/10000 [==============================] - 2s 177us/step - loss: 0.8643 - acc: 0.6994\n",
            "Epoch 4/30\n",
            "10000/10000 [==============================] - 2s 174us/step - loss: 0.8675 - acc: 0.6983\n",
            "Epoch 5/30\n",
            "10000/10000 [==============================] - 2s 175us/step - loss: 0.8495 - acc: 0.7052\n",
            "Epoch 6/30\n",
            "10000/10000 [==============================] - 2s 171us/step - loss: 0.8409 - acc: 0.7027\n",
            "Epoch 7/30\n",
            "10000/10000 [==============================] - 2s 173us/step - loss: 0.8259 - acc: 0.7125\n",
            "Epoch 8/30\n",
            "10000/10000 [==============================] - 2s 174us/step - loss: 0.8097 - acc: 0.7156\n",
            "Epoch 9/30\n",
            "10000/10000 [==============================] - 2s 171us/step - loss: 0.8188 - acc: 0.7123\n",
            "Epoch 10/30\n",
            "10000/10000 [==============================] - 2s 174us/step - loss: 0.8139 - acc: 0.7130\n",
            "Epoch 11/30\n",
            "10000/10000 [==============================] - 2s 173us/step - loss: 0.7877 - acc: 0.7215\n",
            "Epoch 12/30\n",
            "10000/10000 [==============================] - 2s 171us/step - loss: 0.7775 - acc: 0.7304\n",
            "Epoch 13/30\n",
            "10000/10000 [==============================] - 2s 170us/step - loss: 0.7774 - acc: 0.7265\n",
            "Epoch 14/30\n",
            "10000/10000 [==============================] - 2s 174us/step - loss: 0.7713 - acc: 0.7312\n",
            "Epoch 15/30\n",
            "10000/10000 [==============================] - 2s 172us/step - loss: 0.7725 - acc: 0.7260\n",
            "Epoch 16/30\n",
            "10000/10000 [==============================] - 2s 172us/step - loss: 0.7615 - acc: 0.7368\n",
            "Epoch 17/30\n",
            "10000/10000 [==============================] - 2s 173us/step - loss: 0.7621 - acc: 0.7331\n",
            "Epoch 18/30\n",
            "10000/10000 [==============================] - 2s 172us/step - loss: 0.7450 - acc: 0.7356\n",
            "Epoch 19/30\n",
            "10000/10000 [==============================] - 2s 172us/step - loss: 0.7376 - acc: 0.7395\n",
            "Epoch 20/30\n",
            "10000/10000 [==============================] - 2s 171us/step - loss: 0.7528 - acc: 0.7325\n",
            "Epoch 21/30\n",
            "10000/10000 [==============================] - 2s 173us/step - loss: 0.7249 - acc: 0.7477\n",
            "Epoch 22/30\n",
            "10000/10000 [==============================] - 2s 173us/step - loss: 0.7294 - acc: 0.7420\n",
            "Epoch 23/30\n",
            "10000/10000 [==============================] - 2s 174us/step - loss: 0.7346 - acc: 0.7381\n",
            "Epoch 24/30\n",
            "10000/10000 [==============================] - 2s 173us/step - loss: 0.7131 - acc: 0.7470\n",
            "Epoch 25/30\n",
            "10000/10000 [==============================] - 2s 172us/step - loss: 0.7160 - acc: 0.7471\n",
            "Epoch 26/30\n",
            "10000/10000 [==============================] - 2s 174us/step - loss: 0.7154 - acc: 0.7463\n",
            "Epoch 27/30\n",
            "10000/10000 [==============================] - 2s 173us/step - loss: 0.7151 - acc: 0.7484\n",
            "Epoch 28/30\n",
            "10000/10000 [==============================] - 2s 173us/step - loss: 0.7038 - acc: 0.7503\n",
            "Epoch 29/30\n",
            "10000/10000 [==============================] - 2s 170us/step - loss: 0.7197 - acc: 0.7485\n",
            "Epoch 30/30\n",
            "10000/10000 [==============================] - 2s 172us/step - loss: 0.7015 - acc: 0.7462\n"
          ],
          "name": "stdout"
        }
      ]
    },
    {
      "cell_type": "code",
      "metadata": {
        "id": "Q0qnfjqeNu5s",
        "colab_type": "code",
        "outputId": "52af5f6e-aec3-4481-fa45-60f0af5d38b7",
        "colab": {
          "base_uri": "https://localhost:8080/",
          "height": 545
        }
      },
      "source": [
        "# Plotting the test accuracy and loss function\n",
        "\n",
        "import matplotlib.pyplot as plt\n",
        "acc = history.history['acc']\n",
        "loss = history.history['loss']\n",
        "epochs = range(1, len(acc) + 1)\n",
        "plt.plot(epochs, acc, 'bo', label='Testing accuracy')\n",
        "plt.title('Testing accuracy')\n",
        "plt.legend()\n",
        "plt.figure()\n",
        "plt.plot(epochs, loss, 'bo', label='Testing loss')\n",
        "plt.title('Testing loss')\n",
        "plt.legend()\n",
        "plt.show()\n"
      ],
      "execution_count": 0,
      "outputs": [
        {
          "output_type": "display_data",
          "data": {
            "image/png": "[encoded data removed]",
            "text/plain": [
              "<Figure size 432x288 with 1 Axes>"
            ]
          },
          "metadata": {
            "tags": []
          }
        },
        {
          "output_type": "display_data",
          "data": {
            "image/png": "[encoded data removed]",
            "text/plain": [
              "<Figure size 432x288 with 1 Axes>"
            ]
          },
          "metadata": {
            "tags": []
          }
        }
      ]
    }
  ]
}